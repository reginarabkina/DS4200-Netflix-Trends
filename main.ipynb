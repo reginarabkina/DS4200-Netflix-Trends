{
 "cells": [
  {
   "cell_type": "markdown",
   "metadata": {},
   "source": [
    "## DS 4200 - Analyzing Netflix Trends Through IMDB Scores and Entertainment Characteristics\n",
    "\n",
    "### Alissa Agnelli, Paulina Acosta, Regina Rabkina"
   ]
  },
  {
   "cell_type": "code",
   "execution_count": null,
   "metadata": {},
   "outputs": [],
   "source": []
  }
 ],
 "metadata": {
  "language_info": {
   "name": "python"
  }
 },
 "nbformat": 4,
 "nbformat_minor": 2
}
