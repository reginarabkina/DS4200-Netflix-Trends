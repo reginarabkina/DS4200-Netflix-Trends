{
 "cells": [
  {
   "cell_type": "markdown",
   "metadata": {},
   "source": [
    "## DS 4200 - Analyzing Netflix Trends Through IMDB Scores and Entertainment Characteristics\n",
    "\n",
    "### Alissa Agnelli, Paulina Acosta, Regina Rabkina"
   ]
  },
  {
   "cell_type": "code",
   "execution_count": 114,
   "metadata": {},
   "outputs": [],
   "source": [
    "# Importing libraries\n",
    "import pandas as pd\n",
    "import numpy as np \n",
    "import altair as alt"
   ]
  },
  {
   "cell_type": "code",
   "execution_count": 115,
   "metadata": {},
   "outputs": [],
   "source": [
    "# Read the CSV file \n",
    "imdb_df = pd.read_csv('Netflix TV Shows and Movies.csv')\n",
    "netflix_df = pd.read_csv('netflix_titles.csv', encoding='ISO-8859-1')"
   ]
  },
  {
   "cell_type": "code",
   "execution_count": 116,
   "metadata": {},
   "outputs": [
    {
     "name": "stdout",
     "output_type": "stream",
     "text": [
      "<class 'pandas.core.frame.DataFrame'>\n",
      "RangeIndex: 5283 entries, 0 to 5282\n",
      "Data columns (total 11 columns):\n",
      " #   Column             Non-Null Count  Dtype  \n",
      "---  ------             --------------  -----  \n",
      " 0   index              5283 non-null   int64  \n",
      " 1   id                 5283 non-null   object \n",
      " 2   title              5283 non-null   object \n",
      " 3   type               5283 non-null   object \n",
      " 4   description        5278 non-null   object \n",
      " 5   release_year       5283 non-null   int64  \n",
      " 6   age_certification  2998 non-null   object \n",
      " 7   runtime            5283 non-null   int64  \n",
      " 8   imdb_id            5283 non-null   object \n",
      " 9   imdb_score         5283 non-null   float64\n",
      " 10  imdb_votes         5267 non-null   float64\n",
      "dtypes: float64(2), int64(3), object(6)\n",
      "memory usage: 454.1+ KB\n"
     ]
    }
   ],
   "source": [
    "# Looking at variables' datatypes for imdb dataframe\n",
    "imdb_df.info()"
   ]
  },
  {
   "cell_type": "code",
   "execution_count": 117,
   "metadata": {},
   "outputs": [
    {
     "name": "stdout",
     "output_type": "stream",
     "text": [
      "<class 'pandas.core.frame.DataFrame'>\n",
      "RangeIndex: 8809 entries, 0 to 8808\n",
      "Data columns (total 26 columns):\n",
      " #   Column        Non-Null Count  Dtype  \n",
      "---  ------        --------------  -----  \n",
      " 0   show_id       8809 non-null   object \n",
      " 1   type          8809 non-null   object \n",
      " 2   title         8809 non-null   object \n",
      " 3   director      6175 non-null   object \n",
      " 4   cast          7984 non-null   object \n",
      " 5   country       7978 non-null   object \n",
      " 6   date_added    8799 non-null   object \n",
      " 7   release_year  8809 non-null   int64  \n",
      " 8   rating        8805 non-null   object \n",
      " 9   duration      8806 non-null   object \n",
      " 10  listed_in     8809 non-null   object \n",
      " 11  description   8809 non-null   object \n",
      " 12  Unnamed: 12   0 non-null      float64\n",
      " 13  Unnamed: 13   0 non-null      float64\n",
      " 14  Unnamed: 14   0 non-null      float64\n",
      " 15  Unnamed: 15   0 non-null      float64\n",
      " 16  Unnamed: 16   0 non-null      float64\n",
      " 17  Unnamed: 17   0 non-null      float64\n",
      " 18  Unnamed: 18   0 non-null      float64\n",
      " 19  Unnamed: 19   0 non-null      float64\n",
      " 20  Unnamed: 20   0 non-null      float64\n",
      " 21  Unnamed: 21   0 non-null      float64\n",
      " 22  Unnamed: 22   0 non-null      float64\n",
      " 23  Unnamed: 23   0 non-null      float64\n",
      " 24  Unnamed: 24   0 non-null      float64\n",
      " 25  Unnamed: 25   0 non-null      float64\n",
      "dtypes: float64(14), int64(1), object(11)\n",
      "memory usage: 1.7+ MB\n"
     ]
    }
   ],
   "source": [
    "# Looking at variables' datatypes for netflix dataframe\n",
    "netflix_df.info()"
   ]
  },
  {
   "cell_type": "markdown",
   "metadata": {},
   "source": [
    "### EDA"
   ]
  },
  {
   "cell_type": "code",
   "execution_count": 118,
   "metadata": {},
   "outputs": [],
   "source": [
    "# Selecting relevant columns\n",
    "netflix_df = netflix_df[['title', 'country', 'date_added', 'release_year', 'duration', 'listed_in', 'rating']]"
   ]
  },
  {
   "cell_type": "markdown",
   "metadata": {},
   "source": [
    "We decided to select these columns from the netflix dataframe because we deemed these most significant for our analysis of Netflix trends."
   ]
  },
  {
   "cell_type": "code",
   "execution_count": 119,
   "metadata": {},
   "outputs": [],
   "source": [
    "# Merging the two dataframe based on matching titles and release years\n",
    "data = pd.merge(imdb_df, netflix_df, on=['title', 'release_year'], how='inner')"
   ]
  },
  {
   "cell_type": "code",
   "execution_count": 120,
   "metadata": {},
   "outputs": [],
   "source": [
    "# Dropping columns unrelated to our analysis\n",
    "data = data.drop(['id', 'imdb_id', 'index', 'description', 'age_certification', 'duration'], axis = 1)"
   ]
  },
  {
   "cell_type": "markdown",
   "metadata": {},
   "source": [
    "#### Ensuring appropriate data types"
   ]
  },
  {
   "cell_type": "code",
   "execution_count": 121,
   "metadata": {},
   "outputs": [],
   "source": [
    "# Merged the data sets, kept columns that are relevant to analysis\n",
    "# Now going to make sure the data types are correct\n",
    "\n",
    "data['date_added'] = pd.to_datetime(data['date_added'], format='%B %d, %Y', errors='coerce')\n",
    "data['type'] = data['type'].astype('category')\n",
    "data['imdb_votes'] = data['imdb_votes'].astype('Int64')\n",
    "data['rating'] = data['rating'].astype('category')\n",
    "data['country'] = data['country'].astype('category')\n",
    "data['listed_in'] = data['listed_in'].astype('category')\n"
   ]
  },
  {
   "cell_type": "code",
   "execution_count": 122,
   "metadata": {},
   "outputs": [
    {
     "name": "stdout",
     "output_type": "stream",
     "text": [
      "<class 'pandas.core.frame.DataFrame'>\n",
      "Int64Index: 2984 entries, 0 to 2983\n",
      "Data columns (total 10 columns):\n",
      " #   Column        Non-Null Count  Dtype         \n",
      "---  ------        --------------  -----         \n",
      " 0   title         2984 non-null   object        \n",
      " 1   type          2984 non-null   category      \n",
      " 2   release_year  2984 non-null   int64         \n",
      " 3   runtime       2984 non-null   int64         \n",
      " 4   imdb_score    2984 non-null   float64       \n",
      " 5   imdb_votes    2979 non-null   Int64         \n",
      " 6   country       2742 non-null   category      \n",
      " 7   date_added    2984 non-null   datetime64[ns]\n",
      " 8   listed_in     2984 non-null   category      \n",
      " 9   rating        2984 non-null   category      \n",
      "dtypes: Int64(1), category(4), datetime64[ns](1), float64(1), int64(2), object(1)\n",
      "memory usage: 205.5+ KB\n"
     ]
    }
   ],
   "source": [
    "data.info()"
   ]
  },
  {
   "cell_type": "code",
   "execution_count": 123,
   "metadata": {},
   "outputs": [
    {
     "data": {
      "text/plain": [
       "title             0\n",
       "type              0\n",
       "release_year      0\n",
       "runtime           0\n",
       "imdb_score        0\n",
       "imdb_votes        5\n",
       "country         242\n",
       "date_added        0\n",
       "listed_in         0\n",
       "rating            0\n",
       "dtype: int64"
      ]
     },
     "execution_count": 123,
     "metadata": {},
     "output_type": "execute_result"
    }
   ],
   "source": [
    "data.isna().sum()"
   ]
  },
  {
   "cell_type": "markdown",
   "metadata": {},
   "source": [
    "#### Handling null values"
   ]
  },
  {
   "cell_type": "code",
   "execution_count": 124,
   "metadata": {},
   "outputs": [
    {
     "data": {
      "text/plain": [
       "title             0\n",
       "type              0\n",
       "release_year      0\n",
       "runtime           0\n",
       "imdb_score        0\n",
       "imdb_votes        0\n",
       "country         242\n",
       "date_added        0\n",
       "listed_in         0\n",
       "rating            0\n",
       "dtype: int64"
      ]
     },
     "execution_count": 124,
     "metadata": {},
     "output_type": "execute_result"
    }
   ],
   "source": [
    "# Fill imdb_votes with median\n",
    "data['imdb_votes'].fillna(data['imdb_votes'].median(), inplace=True)\n",
    "data.isna().sum()"
   ]
  },
  {
   "cell_type": "markdown",
   "metadata": {},
   "source": [
    "Since votes tend to be skewed (some movies get millions, others get a few), using the median value is safer than the mean. So, we will fill the missing imdb_votes with the median value."
   ]
  },
  {
   "cell_type": "markdown",
   "metadata": {},
   "source": [
    "Add \"Unknown\" to the category list before filling missing values"
   ]
  },
  {
   "cell_type": "code",
   "execution_count": 125,
   "metadata": {},
   "outputs": [],
   "source": [
    "# Add \"Unknown\" as a valid category\n",
    "data['country'] = data['country'].cat.add_categories(\"Unknown\")"
   ]
  },
  {
   "cell_type": "code",
   "execution_count": 126,
   "metadata": {},
   "outputs": [
    {
     "data": {
      "text/plain": [
       "title           0\n",
       "type            0\n",
       "release_year    0\n",
       "runtime         0\n",
       "imdb_score      0\n",
       "imdb_votes      0\n",
       "country         0\n",
       "date_added      0\n",
       "listed_in       0\n",
       "rating          0\n",
       "dtype: int64"
      ]
     },
     "execution_count": 126,
     "metadata": {},
     "output_type": "execute_result"
    }
   ],
   "source": [
    "# Fill country with \"Unknown\"\n",
    "data['country'].fillna(\"Unknown\", inplace=True)\n",
    "data.isna().sum()"
   ]
  },
  {
   "cell_type": "markdown",
   "metadata": {},
   "source": [
    "We replaced null values with \"Unknown\" to indicate missing country data. We do not want to remove certain titles if country data is missing, but we may also want to explore regional trends."
   ]
  },
  {
   "cell_type": "markdown",
   "metadata": {},
   "source": [
    "### Visualizations"
   ]
  },
  {
   "cell_type": "markdown",
   "metadata": {},
   "source": [
    "#### IMDB Score Trends Over Time - Altair Line Chart\n",
    "We want to analyze Netflix's content strategy. By looking at when Netflix added the title to its platform, we can see if Netflix is acquiring more high-rated content overtime. We can also see if certain years had a surge in high or low-rated content being added."
   ]
  },
  {
   "cell_type": "code",
   "execution_count": null,
   "metadata": {},
   "outputs": [
    {
     "data": {
      "text/html": [
       "\n",
       "<style>\n",
       "  #altair-viz-8eb84370b7f949e2b7d960d09a2f5876.vega-embed {\n",
       "    width: 100%;\n",
       "    display: flex;\n",
       "  }\n",
       "\n",
       "  #altair-viz-8eb84370b7f949e2b7d960d09a2f5876.vega-embed details,\n",
       "  #altair-viz-8eb84370b7f949e2b7d960d09a2f5876.vega-embed details summary {\n",
       "    position: relative;\n",
       "  }\n",
       "</style>\n",
       "<div id=\"altair-viz-8eb84370b7f949e2b7d960d09a2f5876\"></div>\n",
       "<script type=\"text/javascript\">\n",
       "  var VEGA_DEBUG = (typeof VEGA_DEBUG == \"undefined\") ? {} : VEGA_DEBUG;\n",
       "  (function(spec, embedOpt){\n",
       "    let outputDiv = document.currentScript.previousElementSibling;\n",
       "    if (outputDiv.id !== \"altair-viz-8eb84370b7f949e2b7d960d09a2f5876\") {\n",
       "      outputDiv = document.getElementById(\"altair-viz-8eb84370b7f949e2b7d960d09a2f5876\");\n",
       "    }\n",
       "\n",
       "    const paths = {\n",
       "      \"vega\": \"https://cdn.jsdelivr.net/npm/vega@5?noext\",\n",
       "      \"vega-lib\": \"https://cdn.jsdelivr.net/npm/vega-lib?noext\",\n",
       "      \"vega-lite\": \"https://cdn.jsdelivr.net/npm/vega-lite@5.20.1?noext\",\n",
       "      \"vega-embed\": \"https://cdn.jsdelivr.net/npm/vega-embed@6?noext\",\n",
       "    };\n",
       "\n",
       "    function maybeLoadScript(lib, version) {\n",
       "      var key = `${lib.replace(\"-\", \"\")}_version`;\n",
       "      return (VEGA_DEBUG[key] == version) ?\n",
       "        Promise.resolve(paths[lib]) :\n",
       "        new Promise(function(resolve, reject) {\n",
       "          var s = document.createElement('script');\n",
       "          document.getElementsByTagName(\"head\")[0].appendChild(s);\n",
       "          s.async = true;\n",
       "          s.onload = () => {\n",
       "            VEGA_DEBUG[key] = version;\n",
       "            return resolve(paths[lib]);\n",
       "          };\n",
       "          s.onerror = () => reject(`Error loading script: ${paths[lib]}`);\n",
       "          s.src = paths[lib];\n",
       "        });\n",
       "    }\n",
       "\n",
       "    function showError(err) {\n",
       "      outputDiv.innerHTML = `<div class=\"error\" style=\"color:red;\">${err}</div>`;\n",
       "      throw err;\n",
       "    }\n",
       "\n",
       "    function displayChart(vegaEmbed) {\n",
       "      vegaEmbed(outputDiv, spec, embedOpt)\n",
       "        .catch(err => showError(`Javascript Error: ${err.message}<br>This usually means there's a typo in your chart specification. See the javascript console for the full traceback.`));\n",
       "    }\n",
       "\n",
       "    if(typeof define === \"function\" && define.amd) {\n",
       "      requirejs.config({paths});\n",
       "      let deps = [\"vega-embed\"];\n",
       "      require(deps, displayChart, err => showError(`Error loading script: ${err.message}`));\n",
       "    } else {\n",
       "      maybeLoadScript(\"vega\", \"5\")\n",
       "        .then(() => maybeLoadScript(\"vega-lite\", \"5.20.1\"))\n",
       "        .then(() => maybeLoadScript(\"vega-embed\", \"6\"))\n",
       "        .catch(showError)\n",
       "        .then(() => displayChart(vegaEmbed));\n",
       "    }\n",
       "  })({\"config\": {\"view\": {\"continuousWidth\": 300, \"continuousHeight\": 300}}, \"data\": {\"name\": \"data-5f8f01d48f4908cd03e69b8cb690c535\"}, \"mark\": {\"type\": \"line\", \"point\": true}, \"encoding\": {\"tooltip\": [{\"field\": \"year_added\", \"type\": \"quantitative\"}, {\"field\": \"imdb_score\", \"type\": \"quantitative\"}], \"x\": {\"field\": \"year_added\", \"title\": \"Year Content Added to Netflix\", \"type\": \"ordinal\"}, \"y\": {\"field\": \"imdb_score\", \"title\": \"Average IMDB Score\", \"type\": \"quantitative\"}}, \"params\": [{\"name\": \"param_7\", \"select\": {\"type\": \"interval\", \"encodings\": [\"x\", \"y\"]}, \"bind\": \"scales\"}], \"title\": \"IMDB Score Trends for Content Added to Netflix\", \"$schema\": \"https://vega.github.io/schema/vega-lite/v5.20.1.json\", \"datasets\": {\"data-5f8f01d48f4908cd03e69b8cb690c535\": [{\"year_added\": 2009, \"imdb_score\": 7.2}, {\"year_added\": 2011, \"imdb_score\": 6.55}, {\"year_added\": 2013, \"imdb_score\": 7.133333333333333}, {\"year_added\": 2014, \"imdb_score\": 7.359999999999999}, {\"year_added\": 2015, \"imdb_score\": 6.503703703703703}, {\"year_added\": 2016, \"imdb_score\": 6.786538461538461}, {\"year_added\": 2017, \"imdb_score\": 6.4248322147651}, {\"year_added\": 2018, \"imdb_score\": 6.4285140562249}, {\"year_added\": 2019, \"imdb_score\": 6.5056701030927835}, {\"year_added\": 2020, \"imdb_score\": 6.392459826946848}, {\"year_added\": 2021, \"imdb_score\": 6.361335403726708}]}}, {\"mode\": \"vega-lite\"});\n",
       "</script>"
      ],
      "text/plain": [
       "alt.Chart(...)"
      ]
     },
     "execution_count": 127,
     "metadata": {},
     "output_type": "execute_result"
    }
   ],
   "source": [
    "# Extract the year Netflix added the content\n",
    "data['year_added'] = data['date_added'].dt.year\n",
    "\n",
    "# Aggregate average IMDB scores per year\n",
    "df_avg = data.groupby('year_added', as_index=False)['imdb_score'].mean()\n",
    "\n",
    "# Create Altair Line Chart\n",
    "score_chart = alt.Chart(df_avg).mark_line(point=True).encode(\n",
    "    x=alt.X('year_added:O', title=\"Year Content Added to Netflix\"),\n",
    "    y=alt.Y('imdb_score:Q', title=\"Average IMDB Score\"),\n",
    "    tooltip=['year_added', 'imdb_score']\n",
    ").properties(\n",
    "    title=\"IMDB Score Trends for Content Added to Netflix\"\n",
    ").interactive()\n",
    "\n",
    "score_chart"
   ]
  },
  {
   "cell_type": "markdown",
   "metadata": {},
   "source": [
    "The IMDB score trends from 2009 to 2021 show fluctuations in content quality on Netflix. Scores started above 7, dipped to 6.5 in 2011, then rose back above 7 in 2013–2014. A decline to 6.5 in 2015 suggests a focus on increasing volume, possibly due to competition from other streaming platforms. Scores stabilized around 6.5 from 2017 to 2021, indicating a balance between quantity and quality in Netflix’s content strategy."
   ]
  }
 ],
 "metadata": {
  "kernelspec": {
   "display_name": "base",
   "language": "python",
   "name": "python3"
  },
  "language_info": {
   "codemirror_mode": {
    "name": "ipython",
    "version": 3
   },
   "file_extension": ".py",
   "mimetype": "text/x-python",
   "name": "python",
   "nbconvert_exporter": "python",
   "pygments_lexer": "ipython3",
   "version": "3.11.4"
  }
 },
 "nbformat": 4,
 "nbformat_minor": 2
}
