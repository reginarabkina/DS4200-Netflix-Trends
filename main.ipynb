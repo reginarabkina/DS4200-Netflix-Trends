{
 "cells": [
  {
   "cell_type": "markdown",
   "metadata": {},
   "source": [
    "## DS 4200 - Analyzing Netflix Trends Through IMDB Scores and Entertainment Characteristics\n",
    "\n",
    "### Alissa Agnelli, Paulina Acosta, Regina Rabkina"
   ]
  },
  {
   "cell_type": "code",
   "execution_count": 114,
   "metadata": {},
   "outputs": [],
   "source": [
    "# Importing libraries\n",
    "import pandas as pd\n",
    "import numpy as np \n",
    "import altair as alt"
   ]
  },
  {
   "cell_type": "code",
   "execution_count": 115,
   "metadata": {},
   "outputs": [],
   "source": [
    "# Read the CSV file \n",
    "imdb_df = pd.read_csv('Netflix TV Shows and Movies.csv')\n",
    "netflix_df = pd.read_csv('netflix_titles.csv', encoding='ISO-8859-1')"
   ]
  },
  {
   "cell_type": "code",
   "execution_count": 116,
   "metadata": {},
   "outputs": [
    {
     "name": "stdout",
     "output_type": "stream",
     "text": [
      "<class 'pandas.core.frame.DataFrame'>\n",
      "RangeIndex: 5283 entries, 0 to 5282\n",
      "Data columns (total 11 columns):\n",
      " #   Column             Non-Null Count  Dtype  \n",
      "---  ------             --------------  -----  \n",
      " 0   index              5283 non-null   int64  \n",
      " 1   id                 5283 non-null   object \n",
      " 2   title              5283 non-null   object \n",
      " 3   type               5283 non-null   object \n",
      " 4   description        5278 non-null   object \n",
      " 5   release_year       5283 non-null   int64  \n",
      " 6   age_certification  2998 non-null   object \n",
      " 7   runtime            5283 non-null   int64  \n",
      " 8   imdb_id            5283 non-null   object \n",
      " 9   imdb_score         5283 non-null   float64\n",
      " 10  imdb_votes         5267 non-null   float64\n",
      "dtypes: float64(2), int64(3), object(6)\n",
      "memory usage: 454.1+ KB\n"
     ]
    }
   ],
   "source": [
    "# Looking at variables' datatypes for imdb dataframe\n",
    "imdb_df.info()"
   ]
  },
  {
   "cell_type": "code",
   "execution_count": 117,
   "metadata": {},
   "outputs": [
    {
     "name": "stdout",
     "output_type": "stream",
     "text": [
      "<class 'pandas.core.frame.DataFrame'>\n",
      "RangeIndex: 8809 entries, 0 to 8808\n",
      "Data columns (total 26 columns):\n",
      " #   Column        Non-Null Count  Dtype  \n",
      "---  ------        --------------  -----  \n",
      " 0   show_id       8809 non-null   object \n",
      " 1   type          8809 non-null   object \n",
      " 2   title         8809 non-null   object \n",
      " 3   director      6175 non-null   object \n",
      " 4   cast          7984 non-null   object \n",
      " 5   country       7978 non-null   object \n",
      " 6   date_added    8799 non-null   object \n",
      " 7   release_year  8809 non-null   int64  \n",
      " 8   rating        8805 non-null   object \n",
      " 9   duration      8806 non-null   object \n",
      " 10  listed_in     8809 non-null   object \n",
      " 11  description   8809 non-null   object \n",
      " 12  Unnamed: 12   0 non-null      float64\n",
      " 13  Unnamed: 13   0 non-null      float64\n",
      " 14  Unnamed: 14   0 non-null      float64\n",
      " 15  Unnamed: 15   0 non-null      float64\n",
      " 16  Unnamed: 16   0 non-null      float64\n",
      " 17  Unnamed: 17   0 non-null      float64\n",
      " 18  Unnamed: 18   0 non-null      float64\n",
      " 19  Unnamed: 19   0 non-null      float64\n",
      " 20  Unnamed: 20   0 non-null      float64\n",
      " 21  Unnamed: 21   0 non-null      float64\n",
      " 22  Unnamed: 22   0 non-null      float64\n",
      " 23  Unnamed: 23   0 non-null      float64\n",
      " 24  Unnamed: 24   0 non-null      float64\n",
      " 25  Unnamed: 25   0 non-null      float64\n",
      "dtypes: float64(14), int64(1), object(11)\n",
      "memory usage: 1.7+ MB\n"
     ]
    }
   ],
   "source": [
    "# Looking at variables' datatypes for netflix dataframe\n",
    "netflix_df.info()"
   ]
  },
  {
   "cell_type": "markdown",
   "metadata": {},
   "source": [
    "### EDA"
   ]
  },
  {
   "cell_type": "code",
   "execution_count": 118,
   "metadata": {},
   "outputs": [],
   "source": [
    "# Selecting relevant columns\n",
    "netflix_df = netflix_df[['title', 'country', 'date_added', 'release_year', 'duration', 'listed_in', 'rating']]"
   ]
  },
  {
   "cell_type": "markdown",
   "metadata": {},
   "source": [
    "We decided to select these columns from the netflix dataframe because we deemed these most significant for our analysis of Netflix trends."
   ]
  },
  {
   "cell_type": "code",
   "execution_count": 119,
   "metadata": {},
   "outputs": [],
   "source": [
    "# Merging the two dataframe based on matching titles and release years\n",
    "data = pd.merge(imdb_df, netflix_df, on=['title', 'release_year'], how='inner')"
   ]
  },
  {
   "cell_type": "code",
   "execution_count": 120,
   "metadata": {},
   "outputs": [],
   "source": [
    "# Dropping columns unrelated to our analysis\n",
    "data = data.drop(['id', 'imdb_id', 'index', 'description', 'age_certification', 'duration'], axis = 1)"
   ]
  },
  {
   "cell_type": "markdown",
   "metadata": {},
   "source": [
    "#### Ensuring appropriate data types"
   ]
  },
  {
   "cell_type": "code",
   "execution_count": 121,
   "metadata": {},
   "outputs": [],
   "source": [
    "# Merged the data sets, kept columns that are relevant to analysis\n",
    "# Now going to make sure the data types are correct\n",
    "\n",
    "data['date_added'] = pd.to_datetime(data['date_added'], format='%B %d, %Y', errors='coerce')\n",
    "data['type'] = data['type'].astype('category')\n",
    "data['imdb_votes'] = data['imdb_votes'].astype('Int64')\n",
    "data['rating'] = data['rating'].astype('category')\n",
    "data['country'] = data['country'].astype('category')\n",
    "data['listed_in'] = data['listed_in'].astype('category')\n"
   ]
  },
  {
   "cell_type": "code",
   "execution_count": 122,
   "metadata": {},
   "outputs": [
    {
     "name": "stdout",
     "output_type": "stream",
     "text": [
      "<class 'pandas.core.frame.DataFrame'>\n",
      "Int64Index: 2984 entries, 0 to 2983\n",
      "Data columns (total 10 columns):\n",
      " #   Column        Non-Null Count  Dtype         \n",
      "---  ------        --------------  -----         \n",
      " 0   title         2984 non-null   object        \n",
      " 1   type          2984 non-null   category      \n",
      " 2   release_year  2984 non-null   int64         \n",
      " 3   runtime       2984 non-null   int64         \n",
      " 4   imdb_score    2984 non-null   float64       \n",
      " 5   imdb_votes    2979 non-null   Int64         \n",
      " 6   country       2742 non-null   category      \n",
      " 7   date_added    2984 non-null   datetime64[ns]\n",
      " 8   listed_in     2984 non-null   category      \n",
      " 9   rating        2984 non-null   category      \n",
      "dtypes: Int64(1), category(4), datetime64[ns](1), float64(1), int64(2), object(1)\n",
      "memory usage: 205.5+ KB\n"
     ]
    }
   ],
   "source": [
    "data.info()"
   ]
  },
  {
   "cell_type": "code",
   "execution_count": 123,
   "metadata": {},
   "outputs": [
    {
     "data": {
      "text/plain": [
       "title             0\n",
       "type              0\n",
       "release_year      0\n",
       "runtime           0\n",
       "imdb_score        0\n",
       "imdb_votes        5\n",
       "country         242\n",
       "date_added        0\n",
       "listed_in         0\n",
       "rating            0\n",
       "dtype: int64"
      ]
     },
     "execution_count": 123,
     "metadata": {},
     "output_type": "execute_result"
    }
   ],
   "source": [
    "data.isna().sum()"
   ]
  },
  {
   "cell_type": "markdown",
   "metadata": {},
   "source": [
    "#### Handling null values"
   ]
  },
  {
   "cell_type": "code",
   "execution_count": 124,
   "metadata": {},
   "outputs": [
    {
     "data": {
      "text/plain": [
       "title             0\n",
       "type              0\n",
       "release_year      0\n",
       "runtime           0\n",
       "imdb_score        0\n",
       "imdb_votes        0\n",
       "country         242\n",
       "date_added        0\n",
       "listed_in         0\n",
       "rating            0\n",
       "dtype: int64"
      ]
     },
     "execution_count": 124,
     "metadata": {},
     "output_type": "execute_result"
    }
   ],
   "source": [
    "# Fill imdb_votes with median\n",
    "data['imdb_votes'].fillna(data['imdb_votes'].median(), inplace=True)\n",
    "data.isna().sum()"
   ]
  },
  {
   "cell_type": "markdown",
   "metadata": {},
   "source": [
    "Since votes tend to be skewed (some movies get millions, others get a few), using the median value is safer than the mean. So, we will fill the missing imdb_votes with the median value."
   ]
  },
  {
   "cell_type": "markdown",
   "metadata": {},
   "source": [
    "Add \"Unknown\" to the category list before filling missing values"
   ]
  },
  {
   "cell_type": "code",
   "execution_count": 125,
   "metadata": {},
   "outputs": [],
   "source": [
    "# Add \"Unknown\" as a valid category\n",
    "data['country'] = data['country'].cat.add_categories(\"Unknown\")"
   ]
  },
  {
   "cell_type": "code",
   "execution_count": 126,
   "metadata": {},
   "outputs": [
    {
     "data": {
      "text/plain": [
       "title           0\n",
       "type            0\n",
       "release_year    0\n",
       "runtime         0\n",
       "imdb_score      0\n",
       "imdb_votes      0\n",
       "country         0\n",
       "date_added      0\n",
       "listed_in       0\n",
       "rating          0\n",
       "dtype: int64"
      ]
     },
     "execution_count": 126,
     "metadata": {},
     "output_type": "execute_result"
    }
   ],
   "source": [
    "# Fill country with \"Unknown\"\n",
    "data['country'].fillna(\"Unknown\", inplace=True)\n",
    "data.isna().sum()"
   ]
  },
  {
   "cell_type": "markdown",
   "metadata": {},
   "source": [
    "We replaced null values with \"Unknown\" to indicate missing country data. We do not want to remove certain titles if country data is missing, but we may also want to explore regional trends."
   ]
  },
  {
   "cell_type": "markdown",
   "metadata": {},
   "source": [
    "### Visualizations"
   ]
  },
  {
   "cell_type": "markdown",
   "metadata": {},
   "source": [
    "#### IMDB Score Trends Over Time - Altair Line Chart\n",
    "We want to analyze Netflix's content strategy. By looking at when Netflix added the title to its platform, we can see if Netflix is acquiring more high-rated content overtime. We can also see if certain years had a surge in high or low-rated content being added."
   ]
  },
  {
   "cell_type": "code",
   "execution_count": null,
   "metadata": {},
   "outputs": [
    {
     "data": {
      "text/html": [
       "\n",
       "<style>\n",
       "  #altair-viz-8eb84370b7f949e2b7d960d09a2f5876.vega-embed {\n",
       "    width: 100%;\n",
       "    display: flex;\n",
       "  }\n",
       "\n",
       "  #altair-viz-8eb84370b7f949e2b7d960d09a2f5876.vega-embed details,\n",
       "  #altair-viz-8eb84370b7f949e2b7d960d09a2f5876.vega-embed details summary {\n",
       "    position: relative;\n",
       "  }\n",
       "</style>\n",
       "<div id=\"altair-viz-8eb84370b7f949e2b7d960d09a2f5876\"></div>\n",
       "<script type=\"text/javascript\">\n",
       "  var VEGA_DEBUG = (typeof VEGA_DEBUG == \"undefined\") ? {} : VEGA_DEBUG;\n",
       "  (function(spec, embedOpt){\n",
       "    let outputDiv = document.currentScript.previousElementSibling;\n",
       "    if (outputDiv.id !== \"altair-viz-8eb84370b7f949e2b7d960d09a2f5876\") {\n",
       "      outputDiv = document.getElementById(\"altair-viz-8eb84370b7f949e2b7d960d09a2f5876\");\n",
       "    }\n",
       "\n",
       "    const paths = {\n",
       "      \"vega\": \"https://cdn.jsdelivr.net/npm/vega@5?noext\",\n",
       "      \"vega-lib\": \"https://cdn.jsdelivr.net/npm/vega-lib?noext\",\n",
       "      \"vega-lite\": \"https://cdn.jsdelivr.net/npm/vega-lite@5.20.1?noext\",\n",
       "      \"vega-embed\": \"https://cdn.jsdelivr.net/npm/vega-embed@6?noext\",\n",
       "    };\n",
       "\n",
       "    function maybeLoadScript(lib, version) {\n",
       "      var key = `${lib.replace(\"-\", \"\")}_version`;\n",
       "      return (VEGA_DEBUG[key] == version) ?\n",
       "        Promise.resolve(paths[lib]) :\n",
       "        new Promise(function(resolve, reject) {\n",
       "          var s = document.createElement('script');\n",
       "          document.getElementsByTagName(\"head\")[0].appendChild(s);\n",
       "          s.async = true;\n",
       "          s.onload = () => {\n",
       "            VEGA_DEBUG[key] = version;\n",
       "            return resolve(paths[lib]);\n",
       "          };\n",
       "          s.onerror = () => reject(`Error loading script: ${paths[lib]}`);\n",
       "          s.src = paths[lib];\n",
       "        });\n",
       "    }\n",
       "\n",
       "    function showError(err) {\n",
       "      outputDiv.innerHTML = `<div class=\"error\" style=\"color:red;\">${err}</div>`;\n",
       "      throw err;\n",
       "    }\n",
       "\n",
       "    function displayChart(vegaEmbed) {\n",
       "      vegaEmbed(outputDiv, spec, embedOpt)\n",
       "        .catch(err => showError(`Javascript Error: ${err.message}<br>This usually means there's a typo in your chart specification. See the javascript console for the full traceback.`));\n",
       "    }\n",
       "\n",
       "    if(typeof define === \"function\" && define.amd) {\n",
       "      requirejs.config({paths});\n",
       "      let deps = [\"vega-embed\"];\n",
       "      require(deps, displayChart, err => showError(`Error loading script: ${err.message}`));\n",
       "    } else {\n",
       "      maybeLoadScript(\"vega\", \"5\")\n",
       "        .then(() => maybeLoadScript(\"vega-lite\", \"5.20.1\"))\n",
       "        .then(() => maybeLoadScript(\"vega-embed\", \"6\"))\n",
       "        .catch(showError)\n",
       "        .then(() => displayChart(vegaEmbed));\n",
       "    }\n",
       "  })({\"config\": {\"view\": {\"continuousWidth\": 300, \"continuousHeight\": 300}}, \"data\": {\"name\": \"data-5f8f01d48f4908cd03e69b8cb690c535\"}, \"mark\": {\"type\": \"line\", \"point\": true}, \"encoding\": {\"tooltip\": [{\"field\": \"year_added\", \"type\": \"quantitative\"}, {\"field\": \"imdb_score\", \"type\": \"quantitative\"}], \"x\": {\"field\": \"year_added\", \"title\": \"Year Content Added to Netflix\", \"type\": \"ordinal\"}, \"y\": {\"field\": \"imdb_score\", \"title\": \"Average IMDB Score\", \"type\": \"quantitative\"}}, \"params\": [{\"name\": \"param_7\", \"select\": {\"type\": \"interval\", \"encodings\": [\"x\", \"y\"]}, \"bind\": \"scales\"}], \"title\": \"IMDB Score Trends for Content Added to Netflix\", \"$schema\": \"https://vega.github.io/schema/vega-lite/v5.20.1.json\", \"datasets\": {\"data-5f8f01d48f4908cd03e69b8cb690c535\": [{\"year_added\": 2009, \"imdb_score\": 7.2}, {\"year_added\": 2011, \"imdb_score\": 6.55}, {\"year_added\": 2013, \"imdb_score\": 7.133333333333333}, {\"year_added\": 2014, \"imdb_score\": 7.359999999999999}, {\"year_added\": 2015, \"imdb_score\": 6.503703703703703}, {\"year_added\": 2016, \"imdb_score\": 6.786538461538461}, {\"year_added\": 2017, \"imdb_score\": 6.4248322147651}, {\"year_added\": 2018, \"imdb_score\": 6.4285140562249}, {\"year_added\": 2019, \"imdb_score\": 6.5056701030927835}, {\"year_added\": 2020, \"imdb_score\": 6.392459826946848}, {\"year_added\": 2021, \"imdb_score\": 6.361335403726708}]}}, {\"mode\": \"vega-lite\"});\n",
       "</script>"
      ],
      "text/plain": [
       "alt.Chart(...)"
      ]
     },
     "execution_count": 127,
     "metadata": {},
     "output_type": "execute_result"
    }
   ],
   "source": [
    "# Extract the year Netflix added the content\n",
    "data['year_added'] = data['date_added'].dt.year\n",
    "\n",
    "# Aggregate average IMDB scores per year\n",
    "df_avg = data.groupby('year_added', as_index=False)['imdb_score'].mean()\n",
    "\n",
    "# Create Altair Line Chart\n",
    "score_chart = alt.Chart(df_avg).mark_line(point=True).encode(\n",
    "    x=alt.X('year_added:O', title=\"Year Content Added to Netflix\"),\n",
    "    y=alt.Y('imdb_score:Q', title=\"Average IMDB Score\"),\n",
    "    tooltip=['year_added', 'imdb_score']\n",
    ").properties(\n",
    "    title=\"IMDB Score Trends for Content Added to Netflix\"\n",
    ").interactive()\n",
    "\n",
    "score_chart"
   ]
  },
  {
   "cell_type": "markdown",
   "metadata": {},
   "source": [
    "The IMDB score trends from 2009 to 2021 show fluctuations in content quality on Netflix. Scores started above 7, dipped to 6.5 in 2011, then rose back above 7 in 2013–2014. A decline to 6.5 in 2015 suggests a focus on increasing volume, possibly due to competition from other streaming platforms. Scores stabilized around 6.5 from 2017 to 2021, indicating a balance between quantity and quality in Netflix’s content strategy."
   ]
  }
  {
   "cell_type": "markdown",
   "metadata": {},
   "source": [
    "The following is a scatter plot showcasing the number of releases a year, and the average rating. The goal of this visualization is to see if there is a correlation between amount of movies and tv shows released and its rating. "
   ]
  },
  {
   "cell_type": "code",
   "execution_count": 18,
   "metadata": {},
   "outputs": [
    {
     "name": "stdout",
     "output_type": "stream",
     "text": [
      "Requirement already satisfied: altair in c:\\users\\pauli\\appdata\\local\\programs\\python\\python313\\lib\\site-packages (5.5.0)Note: you may need to restart the kernel to use updated packages.\n"
     ]
    },
    {
     "name": "stderr",
     "output_type": "stream",
     "text": [
      "\n",
      "[notice] A new release of pip is available: 24.3.1 -> 25.0.1\n",
      "[notice] To update, run: python.exe -m pip install --upgrade pip\n"
     ]
    },
    {
     "name": "stdout",
     "output_type": "stream",
     "text": [
      "\n",
      "Requirement already satisfied: jinja2 in c:\\users\\pauli\\appdata\\local\\programs\\python\\python313\\lib\\site-packages (from altair) (3.1.5)\n",
      "Requirement already satisfied: jsonschema>=3.0 in c:\\users\\pauli\\appdata\\local\\programs\\python\\python313\\lib\\site-packages (from altair) (4.23.0)\n",
      "Requirement already satisfied: narwhals>=1.14.2 in c:\\users\\pauli\\appdata\\local\\programs\\python\\python313\\lib\\site-packages (from altair) (1.24.2)\n",
      "Requirement already satisfied: packaging in c:\\users\\pauli\\appdata\\roaming\\python\\python313\\site-packages (from altair) (24.2)\n",
      "Requirement already satisfied: typing-extensions>=4.10.0 in c:\\users\\pauli\\appdata\\local\\programs\\python\\python313\\lib\\site-packages (from altair) (4.12.2)\n",
      "Requirement already satisfied: attrs>=22.2.0 in c:\\users\\pauli\\appdata\\local\\programs\\python\\python313\\lib\\site-packages (from jsonschema>=3.0->altair) (25.1.0)\n",
      "Requirement already satisfied: jsonschema-specifications>=2023.03.6 in c:\\users\\pauli\\appdata\\local\\programs\\python\\python313\\lib\\site-packages (from jsonschema>=3.0->altair) (2024.10.1)\n",
      "Requirement already satisfied: referencing>=0.28.4 in c:\\users\\pauli\\appdata\\local\\programs\\python\\python313\\lib\\site-packages (from jsonschema>=3.0->altair) (0.36.2)\n",
      "Requirement already satisfied: rpds-py>=0.7.1 in c:\\users\\pauli\\appdata\\local\\programs\\python\\python313\\lib\\site-packages (from jsonschema>=3.0->altair) (0.22.3)\n",
      "Requirement already satisfied: MarkupSafe>=2.0 in c:\\users\\pauli\\appdata\\local\\programs\\python\\python313\\lib\\site-packages (from jinja2->altair) (3.0.2)\n"
     ]
    }
   ],
   "source": [
    "%pip install altair"
   ]
  },
  {
   "cell_type": "code",
   "execution_count": 19,
   "metadata": {},
   "outputs": [],
   "source": [
    "import altair as alt"
   ]
  },
  {
   "cell_type": "code",
   "execution_count": 20,
   "metadata": {},
   "outputs": [
    {
     "name": "stderr",
     "output_type": "stream",
     "text": [
      "C:\\Users\\pauli\\AppData\\Local\\Temp\\ipykernel_7896\\3340885305.py:2: FutureWarning: The default of observed=False is deprecated and will be changed to True in a future version of pandas. Pass observed=False to retain current behavior or observed=True to adopt the future default and silence this warning.\n",
      "  df_plot = data.groupby(['release_year', 'type']).agg(\n"
     ]
    }
   ],
   "source": [
    "#grouping the data by release year and type\n",
    "df_plot = data.groupby(['release_year', 'type']).agg(\n",
    "    num_releases = ('title', 'count'), \n",
    "    avg_rating = ('imdb_score', 'mean')\n",
    ").reset_index()"
   ]
  },
  {
   "cell_type": "code",
   "execution_count": 21,
   "metadata": {},
   "outputs": [
    {
     "data": {
      "text/html": [
       "\n",
       "<style>\n",
       "  #altair-viz-c3770ae05bf64a6c9ff0f79e212e94c4.vega-embed {\n",
       "    width: 100%;\n",
       "    display: flex;\n",
       "  }\n",
       "\n",
       "  #altair-viz-c3770ae05bf64a6c9ff0f79e212e94c4.vega-embed details,\n",
       "  #altair-viz-c3770ae05bf64a6c9ff0f79e212e94c4.vega-embed details summary {\n",
       "    position: relative;\n",
       "  }\n",
       "</style>\n",
       "<div id=\"altair-viz-c3770ae05bf64a6c9ff0f79e212e94c4\"></div>\n",
       "<script type=\"text/javascript\">\n",
       "  var VEGA_DEBUG = (typeof VEGA_DEBUG == \"undefined\") ? {} : VEGA_DEBUG;\n",
       "  (function(spec, embedOpt){\n",
       "    let outputDiv = document.currentScript.previousElementSibling;\n",
       "    if (outputDiv.id !== \"altair-viz-c3770ae05bf64a6c9ff0f79e212e94c4\") {\n",
       "      outputDiv = document.getElementById(\"altair-viz-c3770ae05bf64a6c9ff0f79e212e94c4\");\n",
       "    }\n",
       "\n",
       "    const paths = {\n",
       "      \"vega\": \"https://cdn.jsdelivr.net/npm/vega@5?noext\",\n",
       "      \"vega-lib\": \"https://cdn.jsdelivr.net/npm/vega-lib?noext\",\n",
       "      \"vega-lite\": \"https://cdn.jsdelivr.net/npm/vega-lite@5.20.1?noext\",\n",
       "      \"vega-embed\": \"https://cdn.jsdelivr.net/npm/vega-embed@6?noext\",\n",
       "    };\n",
       "\n",
       "    function maybeLoadScript(lib, version) {\n",
       "      var key = `${lib.replace(\"-\", \"\")}_version`;\n",
       "      return (VEGA_DEBUG[key] == version) ?\n",
       "        Promise.resolve(paths[lib]) :\n",
       "        new Promise(function(resolve, reject) {\n",
       "          var s = document.createElement('script');\n",
       "          document.getElementsByTagName(\"head\")[0].appendChild(s);\n",
       "          s.async = true;\n",
       "          s.onload = () => {\n",
       "            VEGA_DEBUG[key] = version;\n",
       "            return resolve(paths[lib]);\n",
       "          };\n",
       "          s.onerror = () => reject(`Error loading script: ${paths[lib]}`);\n",
       "          s.src = paths[lib];\n",
       "        });\n",
       "    }\n",
       "\n",
       "    function showError(err) {\n",
       "      outputDiv.innerHTML = `<div class=\"error\" style=\"color:red;\">${err}</div>`;\n",
       "      throw err;\n",
       "    }\n",
       "\n",
       "    function displayChart(vegaEmbed) {\n",
       "      vegaEmbed(outputDiv, spec, embedOpt)\n",
       "        .catch(err => showError(`Javascript Error: ${err.message}<br>This usually means there's a typo in your chart specification. See the javascript console for the full traceback.`));\n",
       "    }\n",
       "\n",
       "    if(typeof define === \"function\" && define.amd) {\n",
       "      requirejs.config({paths});\n",
       "      let deps = [\"vega-embed\"];\n",
       "      require(deps, displayChart, err => showError(`Error loading script: ${err.message}`));\n",
       "    } else {\n",
       "      maybeLoadScript(\"vega\", \"5\")\n",
       "        .then(() => maybeLoadScript(\"vega-lite\", \"5.20.1\"))\n",
       "        .then(() => maybeLoadScript(\"vega-embed\", \"6\"))\n",
       "        .catch(showError)\n",
       "        .then(() => displayChart(vegaEmbed));\n",
       "    }\n",
       "  })({\"config\": {\"view\": {\"continuousWidth\": 300, \"continuousHeight\": 300}}, \"data\": {\"name\": \"data-cefe0818419fe181d73ae5099d7ab656\"}, \"mark\": {\"type\": \"circle\"}, \"encoding\": {\"color\": {\"field\": \"type\", \"scale\": {\"domain\": [\"MOVIE\", \"SHOW\"], \"range\": [\"blue\", \"red\"]}, \"title\": \"Type\", \"type\": \"nominal\"}, \"size\": {\"field\": \"num_releases\", \"scale\": {\"range\": [10, 300]}, \"title\": \"Number of Releases\", \"type\": \"quantitative\"}, \"tooltip\": [{\"field\": \"release_year\", \"type\": \"quantitative\"}, {\"field\": \"num_releases\", \"type\": \"quantitative\"}, {\"field\": \"avg_rating\", \"type\": \"quantitative\"}, {\"field\": \"type\", \"type\": \"nominal\"}], \"x\": {\"field\": \"release_year\", \"sort\": \"ascending\", \"title\": \"Release Year\", \"type\": \"ordinal\"}, \"y\": {\"field\": \"avg_rating\", \"scale\": {\"domain\": [3.3, 9.133333333333331]}, \"title\": \"Average IMDb Rating\", \"type\": \"quantitative\"}}, \"height\": 500, \"title\": \"Number of Releases vs. Average Rating by Year (Movies & TV Shows)\", \"width\": 800, \"$schema\": \"https://vega.github.io/schema/vega-lite/v5.20.1.json\", \"datasets\": {\"data-cefe0818419fe181d73ae5099d7ab656\": [{\"release_year\": 1954, \"type\": \"MOVIE\", \"num_releases\": 2, \"avg_rating\": 7.45}, {\"release_year\": 1954, \"type\": \"SHOW\", \"num_releases\": 0, \"avg_rating\": null}, {\"release_year\": 1956, \"type\": \"MOVIE\", \"num_releases\": 1, \"avg_rating\": 6.7}, {\"release_year\": 1956, \"type\": \"SHOW\", \"num_releases\": 0, \"avg_rating\": null}, {\"release_year\": 1958, \"type\": \"MOVIE\", \"num_releases\": 1, \"avg_rating\": 7.5}, {\"release_year\": 1958, \"type\": \"SHOW\", \"num_releases\": 0, \"avg_rating\": null}, {\"release_year\": 1959, \"type\": \"MOVIE\", \"num_releases\": 1, \"avg_rating\": 6.7}, {\"release_year\": 1959, \"type\": \"SHOW\", \"num_releases\": 0, \"avg_rating\": null}, {\"release_year\": 1960, \"type\": \"MOVIE\", \"num_releases\": 1, \"avg_rating\": 6.4}, {\"release_year\": 1960, \"type\": \"SHOW\", \"num_releases\": 0, \"avg_rating\": null}, {\"release_year\": 1961, \"type\": \"MOVIE\", \"num_releases\": 1, \"avg_rating\": 7.5}, {\"release_year\": 1961, \"type\": \"SHOW\", \"num_releases\": 0, \"avg_rating\": null}, {\"release_year\": 1962, \"type\": \"MOVIE\", \"num_releases\": 1, \"avg_rating\": 6.8}, {\"release_year\": 1962, \"type\": \"SHOW\", \"num_releases\": 0, \"avg_rating\": null}, {\"release_year\": 1964, \"type\": \"MOVIE\", \"num_releases\": 1, \"avg_rating\": 7.8}, {\"release_year\": 1964, \"type\": \"SHOW\", \"num_releases\": 0, \"avg_rating\": null}, {\"release_year\": 1966, \"type\": \"MOVIE\", \"num_releases\": 1, \"avg_rating\": 6.7}, {\"release_year\": 1966, \"type\": \"SHOW\", \"num_releases\": 0, \"avg_rating\": null}, {\"release_year\": 1967, \"type\": \"MOVIE\", \"num_releases\": 1, \"avg_rating\": 7.7}, {\"release_year\": 1967, \"type\": \"SHOW\", \"num_releases\": 0, \"avg_rating\": null}, {\"release_year\": 1969, \"type\": \"MOVIE\", \"num_releases\": 1, \"avg_rating\": 6.9}, {\"release_year\": 1969, \"type\": \"SHOW\", \"num_releases\": 0, \"avg_rating\": null}, {\"release_year\": 1971, \"type\": \"MOVIE\", \"num_releases\": 1, \"avg_rating\": 6.2}, {\"release_year\": 1971, \"type\": \"SHOW\", \"num_releases\": 0, \"avg_rating\": null}, {\"release_year\": 1972, \"type\": \"MOVIE\", \"num_releases\": 1, \"avg_rating\": 6.2}, {\"release_year\": 1972, \"type\": \"SHOW\", \"num_releases\": 1, \"avg_rating\": 8.1}, {\"release_year\": 1973, \"type\": \"MOVIE\", \"num_releases\": 1, \"avg_rating\": 5.1}, {\"release_year\": 1973, \"type\": \"SHOW\", \"num_releases\": 0, \"avg_rating\": null}, {\"release_year\": 1974, \"type\": \"MOVIE\", \"num_releases\": 1, \"avg_rating\": 6.5}, {\"release_year\": 1974, \"type\": \"SHOW\", \"num_releases\": 0, \"avg_rating\": null}, {\"release_year\": 1975, \"type\": \"MOVIE\", \"num_releases\": 1, \"avg_rating\": 8.199999999999998}, {\"release_year\": 1975, \"type\": \"SHOW\", \"num_releases\": 0, \"avg_rating\": null}, {\"release_year\": 1976, \"type\": \"MOVIE\", \"num_releases\": 1, \"avg_rating\": 4.6}, {\"release_year\": 1976, \"type\": \"SHOW\", \"num_releases\": 0, \"avg_rating\": null}, {\"release_year\": 1978, \"type\": \"MOVIE\", \"num_releases\": 1, \"avg_rating\": 4.2}, {\"release_year\": 1978, \"type\": \"SHOW\", \"num_releases\": 0, \"avg_rating\": null}, {\"release_year\": 1979, \"type\": \"MOVIE\", \"num_releases\": 1, \"avg_rating\": 8.1}, {\"release_year\": 1979, \"type\": \"SHOW\", \"num_releases\": 0, \"avg_rating\": null}, {\"release_year\": 1980, \"type\": \"MOVIE\", \"num_releases\": 3, \"avg_rating\": 6.833333333333333}, {\"release_year\": 1980, \"type\": \"SHOW\", \"num_releases\": 0, \"avg_rating\": null}, {\"release_year\": 1981, \"type\": \"MOVIE\", \"num_releases\": 1, \"avg_rating\": 7.2}, {\"release_year\": 1981, \"type\": \"SHOW\", \"num_releases\": 0, \"avg_rating\": null}, {\"release_year\": 1982, \"type\": \"MOVIE\", \"num_releases\": 4, \"avg_rating\": 6.95}, {\"release_year\": 1982, \"type\": \"SHOW\", \"num_releases\": 0, \"avg_rating\": null}, {\"release_year\": 1983, \"type\": \"MOVIE\", \"num_releases\": 1, \"avg_rating\": 6.3}, {\"release_year\": 1983, \"type\": \"SHOW\", \"num_releases\": 0, \"avg_rating\": null}, {\"release_year\": 1984, \"type\": \"MOVIE\", \"num_releases\": 3, \"avg_rating\": 6.866666666666667}, {\"release_year\": 1984, \"type\": \"SHOW\", \"num_releases\": 0, \"avg_rating\": null}, {\"release_year\": 1986, \"type\": \"MOVIE\", \"num_releases\": 3, \"avg_rating\": 6.1000000000000005}, {\"release_year\": 1986, \"type\": \"SHOW\", \"num_releases\": 0, \"avg_rating\": null}, {\"release_year\": 1987, \"type\": \"MOVIE\", \"num_releases\": 2, \"avg_rating\": 6.75}, {\"release_year\": 1987, \"type\": \"SHOW\", \"num_releases\": 0, \"avg_rating\": null}, {\"release_year\": 1988, \"type\": \"MOVIE\", \"num_releases\": 4, \"avg_rating\": 6.324999999999999}, {\"release_year\": 1988, \"type\": \"SHOW\", \"num_releases\": 1, \"avg_rating\": 3.8}, {\"release_year\": 1989, \"type\": \"MOVIE\", \"num_releases\": 3, \"avg_rating\": 6.8999999999999995}, {\"release_year\": 1989, \"type\": \"SHOW\", \"num_releases\": 0, \"avg_rating\": null}, {\"release_year\": 1990, \"type\": \"MOVIE\", \"num_releases\": 5, \"avg_rating\": 6.359999999999999}, {\"release_year\": 1990, \"type\": \"SHOW\", \"num_releases\": 0, \"avg_rating\": null}, {\"release_year\": 1991, \"type\": \"MOVIE\", \"num_releases\": 5, \"avg_rating\": 6.459999999999999}, {\"release_year\": 1991, \"type\": \"SHOW\", \"num_releases\": 0, \"avg_rating\": null}, {\"release_year\": 1992, \"type\": \"MOVIE\", \"num_releases\": 1, \"avg_rating\": 6.5}, {\"release_year\": 1992, \"type\": \"SHOW\", \"num_releases\": 0, \"avg_rating\": null}, {\"release_year\": 1993, \"type\": \"MOVIE\", \"num_releases\": 8, \"avg_rating\": 6.5375}, {\"release_year\": 1993, \"type\": \"SHOW\", \"num_releases\": 0, \"avg_rating\": null}, {\"release_year\": 1994, \"type\": \"MOVIE\", \"num_releases\": 6, \"avg_rating\": 5.866666666666667}, {\"release_year\": 1994, \"type\": \"SHOW\", \"num_releases\": 0, \"avg_rating\": null}, {\"release_year\": 1995, \"type\": \"MOVIE\", \"num_releases\": 4, \"avg_rating\": 6.550000000000001}, {\"release_year\": 1995, \"type\": \"SHOW\", \"num_releases\": 1, \"avg_rating\": 8.5}, {\"release_year\": 1996, \"type\": \"MOVIE\", \"num_releases\": 3, \"avg_rating\": 5.533333333333334}, {\"release_year\": 1996, \"type\": \"SHOW\", \"num_releases\": 0, \"avg_rating\": null}, {\"release_year\": 1997, \"type\": \"MOVIE\", \"num_releases\": 3, \"avg_rating\": 7.166666666666667}, {\"release_year\": 1997, \"type\": \"SHOW\", \"num_releases\": 0, \"avg_rating\": null}, {\"release_year\": 1998, \"type\": \"MOVIE\", \"num_releases\": 10, \"avg_rating\": 6.790000000000001}, {\"release_year\": 1998, \"type\": \"SHOW\", \"num_releases\": 0, \"avg_rating\": null}, {\"release_year\": 1999, \"type\": \"MOVIE\", \"num_releases\": 3, \"avg_rating\": 5.533333333333334}, {\"release_year\": 1999, \"type\": \"SHOW\", \"num_releases\": 0, \"avg_rating\": null}, {\"release_year\": 2000, \"type\": \"MOVIE\", \"num_releases\": 2, \"avg_rating\": 6.05}, {\"release_year\": 2000, \"type\": \"SHOW\", \"num_releases\": 0, \"avg_rating\": null}, {\"release_year\": 2001, \"type\": \"MOVIE\", \"num_releases\": 9, \"avg_rating\": 7.033333333333333}, {\"release_year\": 2001, \"type\": \"SHOW\", \"num_releases\": 2, \"avg_rating\": 7.4}, {\"release_year\": 2002, \"type\": \"MOVIE\", \"num_releases\": 5, \"avg_rating\": 6.4}, {\"release_year\": 2002, \"type\": \"SHOW\", \"num_releases\": 1, \"avg_rating\": 6.5}, {\"release_year\": 2003, \"type\": \"MOVIE\", \"num_releases\": 9, \"avg_rating\": 6.511111111111111}, {\"release_year\": 2003, \"type\": \"SHOW\", \"num_releases\": 1, \"avg_rating\": 6.1}, {\"release_year\": 2004, \"type\": \"MOVIE\", \"num_releases\": 16, \"avg_rating\": 6.58125}, {\"release_year\": 2004, \"type\": \"SHOW\", \"num_releases\": 1, \"avg_rating\": 6.2}, {\"release_year\": 2005, \"type\": \"MOVIE\", \"num_releases\": 14, \"avg_rating\": 6.614285714285714}, {\"release_year\": 2005, \"type\": \"SHOW\", \"num_releases\": 2, \"avg_rating\": 6.949999999999999}, {\"release_year\": 2006, \"type\": \"MOVIE\", \"num_releases\": 20, \"avg_rating\": 6.659999999999999}, {\"release_year\": 2006, \"type\": \"SHOW\", \"num_releases\": 3, \"avg_rating\": 8.633333333333331}, {\"release_year\": 2007, \"type\": \"MOVIE\", \"num_releases\": 19, \"avg_rating\": 6.71578947368421}, {\"release_year\": 2007, \"type\": \"SHOW\", \"num_releases\": 2, \"avg_rating\": 6.2}, {\"release_year\": 2008, \"type\": \"MOVIE\", \"num_releases\": 28, \"avg_rating\": 6.789285714285714}, {\"release_year\": 2008, \"type\": \"SHOW\", \"num_releases\": 4, \"avg_rating\": 7.475}, {\"release_year\": 2009, \"type\": \"MOVIE\", \"num_releases\": 30, \"avg_rating\": 6.376666666666667}, {\"release_year\": 2009, \"type\": \"SHOW\", \"num_releases\": 6, \"avg_rating\": 7.133333333333333}, {\"release_year\": 2010, \"type\": \"MOVIE\", \"num_releases\": 33, \"avg_rating\": 6.712121212121212}, {\"release_year\": 2010, \"type\": \"SHOW\", \"num_releases\": 3, \"avg_rating\": 7.066666666666666}, {\"release_year\": 2011, \"type\": \"MOVIE\", \"num_releases\": 39, \"avg_rating\": 6.430769230769231}, {\"release_year\": 2011, \"type\": \"SHOW\", \"num_releases\": 6, \"avg_rating\": 7.0}, {\"release_year\": 2012, \"type\": \"MOVIE\", \"num_releases\": 50, \"avg_rating\": 6.2620000000000005}, {\"release_year\": 2012, \"type\": \"SHOW\", \"num_releases\": 2, \"avg_rating\": 7.1}, {\"release_year\": 2013, \"type\": \"MOVIE\", \"num_releases\": 56, \"avg_rating\": 6.230357142857143}, {\"release_year\": 2013, \"type\": \"SHOW\", \"num_releases\": 6, \"avg_rating\": 7.433333333333334}, {\"release_year\": 2014, \"type\": \"MOVIE\", \"num_releases\": 72, \"avg_rating\": 6.481944444444444}, {\"release_year\": 2014, \"type\": \"SHOW\", \"num_releases\": 6, \"avg_rating\": 7.133333333333333}, {\"release_year\": 2015, \"type\": \"MOVIE\", \"num_releases\": 91, \"avg_rating\": 6.263736263736264}, {\"release_year\": 2015, \"type\": \"SHOW\", \"num_releases\": 20, \"avg_rating\": 7.165000000000001}, {\"release_year\": 2016, \"type\": \"MOVIE\", \"num_releases\": 152, \"avg_rating\": 6.290131578947369}, {\"release_year\": 2016, \"type\": \"SHOW\", \"num_releases\": 50, \"avg_rating\": 7.0760000000000005}, {\"release_year\": 2017, \"type\": \"MOVIE\", \"num_releases\": 268, \"avg_rating\": 6.223880597014926}, {\"release_year\": 2017, \"type\": \"SHOW\", \"num_releases\": 71, \"avg_rating\": 7.2}, {\"release_year\": 2018, \"type\": \"MOVIE\", \"num_releases\": 333, \"avg_rating\": 6.178678678678678}, {\"release_year\": 2018, \"type\": \"SHOW\", \"num_releases\": 143, \"avg_rating\": 6.976223776223776}, {\"release_year\": 2019, \"type\": \"MOVIE\", \"num_releases\": 326, \"avg_rating\": 6.144478527607362}, {\"release_year\": 2019, \"type\": \"SHOW\", \"num_releases\": 166, \"avg_rating\": 6.993373493975903}, {\"release_year\": 2020, \"type\": \"MOVIE\", \"num_releases\": 293, \"avg_rating\": 6.0563139931740615}, {\"release_year\": 2020, \"type\": \"SHOW\", \"num_releases\": 192, \"avg_rating\": 6.8500000000000005}, {\"release_year\": 2021, \"type\": \"MOVIE\", \"num_releases\": 170, \"avg_rating\": 6.018823529411765}, {\"release_year\": 2021, \"type\": \"SHOW\", \"num_releases\": 167, \"avg_rating\": 6.703592814371257}]}}, {\"mode\": \"vega-lite\"});\n",
       "</script>"
      ],
      "text/plain": [
       "alt.Chart(...)"
      ]
     },
     "metadata": {},
     "output_type": "display_data"
    }
   ],
   "source": [
    "#scatter plot of releases per year and imdb rating\n",
    "\n",
    "scatter_plot = alt.Chart(df_plot).mark_circle().encode(\n",
    "    x=alt.X('release_year:O', title='Release Year', sort='ascending'),\n",
    "    y=alt.Y('avg_rating:Q', title='Average IMDb Rating', scale=alt.Scale(domain=[df_plot['avg_rating'].min()-0.5, df_plot['avg_rating'].max()+0.5])),\n",
    "    size=alt.Size('num_releases:Q', title='Number of Releases', scale=alt.Scale(range=[10, 300])),\n",
    "    color=alt.Color('type:N', title='Type', scale=alt.Scale(domain=['MOVIE', 'SHOW'], range=['blue', 'red'])),\n",
    "    tooltip=['release_year', 'num_releases', 'avg_rating', 'type']\n",
    ").properties(\n",
    "    title=\"Number of Releases vs. Average Rating by Year (Movies & TV Shows)\",\n",
    "    width=800,\n",
    "    height=500\n",
    ")\n",
    "\n",
    "scatter_plot.show()"
   ]
  }
 ],
 "metadata": {
  "kernelspec": {
   "display_name": "Python 3",
   "language": "python",
   "name": "python3"
  },
  "language_info": {
   "codemirror_mode": {
    "name": "ipython",
    "version": 3
   },
   "file_extension": ".py",
   "mimetype": "text/x-python",
   "name": "python",
   "nbconvert_exporter": "python",
   "pygments_lexer": "ipython3",
   "version": "3.13.1"
  }
 },
 "nbformat": 4,
 "nbformat_minor": 2
}
